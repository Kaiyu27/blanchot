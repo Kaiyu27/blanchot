{
 "cells": [
  {
   "metadata": {
    "jupyter": {
     "is_executing": true
    }
   },
   "cell_type": "code",
   "source": [
    "import json\n",
    "import csv\n",
    "import pprint\n",
    "from http.client import responses\n",
    "\n",
    "from pyalex import Works\n",
    "from typing import List, Optional, Literal\n",
    "from pydantic import BaseModel, HttpUrl, ValidationError, validator, ConfigDict, Field, model_validator\n",
    "\n"
   ],
   "id": "a67871f93a59677a",
   "outputs": [],
   "execution_count": null
  },
  {
   "metadata": {
    "ExecuteTime": {
     "end_time": "2025-06-19T02:12:14.977861Z",
     "start_time": "2025-06-18T16:15:31.872552Z"
    }
   },
   "cell_type": "code",
   "source": [
    "class Affiliation(BaseModel):\n",
    "    raw_affiliation_string: str\n",
    "    institution_ids: list[HttpUrl]\n",
    "\n",
    "\n",
    "class DehydratedAuthor(BaseModel):\n",
    "    id: HttpUrl\n",
    "    display_name: str\n",
    "    orcid: Optional[HttpUrl]\n",
    "\n",
    "\n",
    "class Institution(BaseModel):\n",
    "    id: HttpUrl\n",
    "    display_name: str\n",
    "    ror: HttpUrl\n",
    "    country_code: str\n",
    "    type: str\n",
    "    lineage: HttpUrl\n",
    "\n",
    "\n",
    "class Authorship(BaseModel):\n",
    "    model_config = ConfigDict(extra='allow')\n",
    "    affiliations: list[Affiliation]\n",
    "    author: DehydratedAuthor\n",
    "    author_position: Optional[Literal['first', 'middle', 'last']]\n",
    "\n",
    "\n",
    "    # # TODO: see if there are standardized ways to represent a country\n",
    "    countries: list[str]\n",
    "    institutions: list[Institution]\n",
    "    is_corresponding: Optional[bool]\n",
    "\n",
    "\n",
    "class DehydratedSource(BaseModel):\n",
    "    id: HttpUrl\n",
    "    display_name: str\n",
    "    issn_l: str = Field(pattern=r'^\\d{4}-\\d{3}[\\dX]$')\n",
    "    issn: list[str]\n",
    "    host_organization: HttpUrl\n",
    "    type: Literal['journal', 'repository', 'conference', 'ebook', 'platform', 'book series', 'metadata', 'other']\n",
    "\n",
    "    # TODO: figure out how to validate\n",
    "    @model_validator(mode='after')\n",
    "    def validate_issn(self):\n",
    "        # for id in self.issn:\n",
    "        #   re.\n",
    "        pass\n",
    "\n",
    "\n",
    "\n",
    "class Location(BaseModel):\n",
    "    is_oa: bool\n",
    "    landing_page_url: HttpUrl\n",
    "    pdf_url: Optional[HttpUrl]\n",
    "    source: DehydratedSource\n",
    "    license: Optional[str]\n",
    "    version: Optional[Literal['publishedVersion', 'acceptedVersion', 'submittedVersion']]\n",
    "    is_accepted: bool\n",
    "    is_published: bool"
   ],
   "id": "214709ad883dfc7",
   "outputs": [],
   "execution_count": 71
  },
  {
   "metadata": {
    "ExecuteTime": {
     "end_time": "2025-06-19T02:12:21.353388Z",
     "start_time": "2025-06-18T16:15:33.680083Z"
    }
   },
   "cell_type": "code",
   "source": [
    "import json\n",
    "\n",
    "test = json.loads('''{\n",
    "        \"is_oa\": false,\n",
    "        \"landing_page_url\": \"https://doi.org/10.2307/3736058\",\n",
    "        \"pdf_url\": null,\n",
    "        \"source\": {\n",
    "          \"id\": \"https://openalex.org/S93676754\",\n",
    "          \"display_name\": \"The Modern Language Review\",\n",
    "          \"issn_l\": \"0026-7937\",\n",
    "          \"issn\": [\n",
    "            \"0026-7937\",\n",
    "            \"2222-4319\"\n",
    "          ],\n",
    "          \"is_oa\": false,\n",
    "          \"is_in_doaj\": false,\n",
    "          \"is_indexed_in_scopus\": true,\n",
    "          \"is_core\": false,\n",
    "          \"host_organization\": \"https://openalex.org/P4310321404\",\n",
    "          \"host_organization_name\": \"Modern Humanities Research Association\",\n",
    "          \"host_organization_lineage\": [\n",
    "            \"https://openalex.org/P4310321404\"\n",
    "          ],\n",
    "          \"host_organization_lineage_names\": [\n",
    "            \"Modern Humanities Research Association\"\n",
    "          ],\n",
    "          \"type\": \"journal\"\n",
    "        },\n",
    "        \"license\": null,\n",
    "        \"license_id\": null,\n",
    "        \"version\": null,\n",
    "        \"is_accepted\": false,\n",
    "        \"is_published\": false\n",
    "      }\n",
    "    ''')\n",
    "# TODO: [FINE FOR NOW---RETURN TO LATER] figure out issue causing pydantic to throw type=missing validation errors (see G for details)"
   ],
   "id": "8315309fcf72f672",
   "outputs": [],
   "execution_count": 72
  },
  {
   "metadata": {
    "ExecuteTime": {
     "end_time": "2025-06-19T02:12:21.356974Z",
     "start_time": "2025-06-18T16:15:34.115856Z"
    }
   },
   "cell_type": "code",
   "source": "Location.model_validate(test)",
   "id": "a0c98a9b8bbaa8a5",
   "outputs": [
    {
     "data": {
      "text/plain": [
       "Location(is_oa=False, landing_page_url=HttpUrl('https://doi.org/10.2307/3736058'), pdf_url=None, source=None, license=None, version=None, is_accepted=False, is_published=False)"
      ]
     },
     "execution_count": 73,
     "metadata": {},
     "output_type": "execute_result"
    }
   ],
   "execution_count": 73
  },
  {
   "metadata": {
    "ExecuteTime": {
     "end_time": "2025-06-19T02:12:21.374203Z",
     "start_time": "2025-06-18T15:54:10.451795Z"
    }
   },
   "cell_type": "code",
   "source": [
    "import pandas as pd, requests, urllib.parse, time\n",
    "from tqdm import tqdm\n",
    "from typing import List, Optional, Dict, Any\n",
    "from pydantic import BaseModel, HttpUrl, Field, ValidationError\n",
    "\n",
    "# Dehydrated objects (minimal, nested representations)\n",
    "class DehydratedConceptModel(BaseModel):\n",
    "    id: HttpUrl\n",
    "    display_name: str\n",
    "    level: int\n",
    "    score: float\n",
    "\n",
    "\n",
    "class DehydratedInstitutionModel(BaseModel):\n",
    "    id: HttpUrl\n",
    "    display_name: str\n",
    "    ror: Optional[HttpUrl] = None\n",
    "    country_code: str\n",
    "    type: str\n",
    "\n",
    "\n",
    "class DehydratedAuthorModel(BaseModel):\n",
    "    id: HttpUrl\n",
    "    display_name: str\n",
    "    orcid: Optional[HttpUrl] = None\n",
    "\n",
    "\n",
    "# Nested objects that are part of a Work\n",
    "class Biblio(BaseModel):\n",
    "    volume: Optional[str] = None\n",
    "    issue: Optional[str] = None\n",
    "    first_page: Optional[str] = None\n",
    "    last_page: Optional[str] = None\n",
    "\n",
    "\n",
    "class Location(BaseModel):\n",
    "    is_oa: bool\n",
    "    landing_page_url: Optional[HttpUrl] = None\n",
    "    pdf_url: Optional[HttpUrl] = None\n",
    "    source: Optional[Dict[str, Any]] = None\n",
    "    license: Optional[str] = None\n",
    "    version: Optional[str] = None\n",
    "    is_accepted: Optional[bool] = None\n",
    "    is_published: Optional[bool] = None\n",
    "\n",
    "\n",
    "class Authorship(BaseModel):\n",
    "    author_position: str\n",
    "    author: DehydratedAuthorModel\n",
    "    institutions: List[DehydratedInstitutionModel]\n",
    "\n",
    "\n",
    "# The main, top-level Work object model\n",
    "class ComprehensiveWorkModel(BaseModel):\n",
    "    id: HttpUrl\n",
    "    doi: Optional[HttpUrl] = None\n",
    "    title: str\n",
    "    publication_year: Optional[int] = None\n",
    "    publication_date: str\n",
    "    language: Optional[str] = None\n",
    "    type: str\n",
    "    authorships: List[Authorship]\n",
    "    primary_location: Optional[Location] = None\n",
    "    locations: List[Location]\n",
    "    cited_by_count: int\n",
    "    referenced_works: List[HttpUrl]\n",
    "    related_works: List[HttpUrl]\n",
    "    concepts: List[DehydratedConceptModel]\n",
    "    # We add 'extra=\"allow\"' in a ConfigDict if we want to be less strict\n",
    "    # For full validation, we omit it, and any extra field will raise an error.\n",
    "\n",
    "\n",
    "BASE = \"https://api.openalex.org/works\"\n",
    "filters = \"title_and_abstract.search:Blanchot,publication_year: 1998-2025\"\n",
    "per_page = 200\n",
    "records=[]\n",
    "cursor = \"*\"\n",
    "with tqdm(desc='Downloading', unit='page') as pbar:\n",
    "    while True:\n",
    "        url = f\"{BASE}?filter={filters}&per_page={per_page}&cursor={cursor}\"\n",
    "        resp = requests.get(url).json()\n",
    "        if pbar.total == None: pbar.total = resp['meta']['count']\n",
    "        records.extend (resp['results'])\n",
    "        pbar.update(len (resp['results']))\n",
    "\n",
    "        next_cursor = resp['meta'].get('next_cursor')\n",
    "        if not next_cursor:\n",
    "            break\n",
    "        cursor = next_cursor\n",
    "        time.sleep(0.2)"
   ],
   "id": "26eb1fe6340d2c7a",
   "outputs": [
    {
     "name": "stderr",
     "output_type": "stream",
     "text": [
      "Downloading: 4060page [00:11, 357.10page/s]                        \n"
     ]
    }
   ],
   "execution_count": 62
  }
 ],
 "metadata": {
  "kernelspec": {
   "display_name": "Python 3",
   "language": "python",
   "name": "python3"
  },
  "language_info": {
   "codemirror_mode": {
    "name": "ipython",
    "version": 2
   },
   "file_extension": ".py",
   "mimetype": "text/x-python",
   "name": "python",
   "nbconvert_exporter": "python",
   "pygments_lexer": "ipython2",
   "version": "2.7.6"
  }
 },
 "nbformat": 4,
 "nbformat_minor": 5
}
