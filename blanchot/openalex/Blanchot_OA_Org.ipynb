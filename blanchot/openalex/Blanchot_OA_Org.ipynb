{
 "cells": [
  {
   "cell_type": "code",
   "execution_count": null,
   "id": "a67871f93a59677a",
   "metadata": {
    "jupyter": {
     "is_executing": true
    }
   },
   "outputs": [],
   "source": [
    "import json\n",
    "import re\n",
    "from http.client import responses\n",
    "from typing import List, Optional, Literal, Dict\n",
    "from pydantic import BaseModel, HttpUrl, ValidationError, ConfigDict, Field, model_validator"
   ]
  },
  {
   "cell_type": "code",
   "execution_count": null,
   "id": "214709ad883dfc7",
   "metadata": {
    "ExecuteTime": {
     "end_time": "2025-06-19T02:12:14.977861Z",
     "start_time": "2025-06-18T16:15:31.872552Z"
    }
   },
   "outputs": [],
   "source": []
  },
  {
   "cell_type": "code",
   "execution_count": null,
   "id": "26eb1fe6340d2c7a",
   "metadata": {
    "ExecuteTime": {
     "end_time": "2025-06-19T02:12:21.374203Z",
     "start_time": "2025-06-18T15:54:10.451795Z"
    }
   },
   "outputs": [
    {
     "name": "stderr",
     "output_type": "stream",
     "text": [
      "/opt/miniconda3/envs/blanchot/lib/python3.13/site-packages/requests/__init__.py:86: RequestsDependencyWarning: Unable to find acceptable character detection dependency (chardet or charset_normalizer).\n",
      "  warnings.warn(\n",
      "Downloading: 100%|█████████▉| 4076/4079 [00:24<00:00, 167.53work/s]\n"
     ]
    }
   ],
   "source": [
    "import pandas as pd, requests, urllib.parse, time\n",
    "from collections import defaultdict\n",
    "from tqdm import tqdm\n",
    "\n",
    "def get_oa_work():\n",
    "    BASE = \"https://api.openalex.org/works\"\n",
    "    filters = \"title_and_abstract.search:Blanchot,publication_year:1998-2025\"\n",
    "    per_page = 200\n",
    "    records = []\n",
    "    cursor = \"*\"\n",
    "    invalid_works = []\n",
    "    with tqdm(desc='Downloading', unit='work') as pbar:\n",
    "        while True:\n",
    "            encoded_filters = urllib.parse.quote(filters)\n",
    "            encoded_cursor = urllib.parse.quote(cursor)\n",
    "\n",
    "            url = f\"{BASE}?filter={encoded_filters}&per_page={per_page}&cursor={encoded_cursor}\"\n",
    "            \n",
    "            resp = requests.get(url).json()\n",
    "            if pbar.total == None: \n",
    "                pbar.total = resp['meta']['count']\n",
    "            works = resp['results']\n",
    "\n",
    "            for work in works:\n",
    "                try:\n",
    "                    valid_work = OpenAlexWork.model_validate(work).model_dump()\n",
    "                    id = re.search(r'[A-Z](\\d+)', str(valid_work['id'])).group()\n",
    "                    records[id].append(valid_work)\n",
    "                except ValidationError as e:\n",
    "                    invalidation_info = {\n",
    "                        \"work_id\": work.get(\"id\"),\n",
    "                        \"error\": str(e)\n",
    "                    }\n",
    "                    invalid_works.append(invalidation_info)\n",
    "            \n",
    "            \n",
    "            pbar.update(len(works))\n",
    "\n",
    "            next_cursor = resp['meta'].get('next_cursor')\n",
    "            if not next_cursor:\n",
    "                break\n",
    "            cursor = next_cursor\n",
    "            time.sleep(0.1)\n",
    "    return "
   ]
  },
  {
   "cell_type": "code",
   "execution_count": 6,
   "id": "43e5e995",
   "metadata": {},
   "outputs": [
    {
     "name": "stdout",
     "output_type": "stream",
     "text": [
      "W4393910644\n",
      "W2500671005\n",
      "W1640876992\n",
      "W181498903\n",
      "W2313838823\n",
      "W2242153549\n",
      "W4210509993\n",
      "W2019765947\n"
     ]
    }
   ],
   "source": [
    "#UNFINSHED CODE FOR DEDUPING\n",
    "duplicate_ids = []\n",
    "\n",
    "for id, works in records.items():\n",
    "    if len(works) > 1:\n",
    "        duplicate_ids.append(id)\n",
    "\n",
    "print('\\n'.join(duplicate_ids))"
   ]
  },
  {
   "cell_type": "code",
   "execution_count": 7,
   "id": "98d9631a",
   "metadata": {},
   "outputs": [],
   "source": [
    "#FILE CREATION\n",
    "with open('openalex_blanchot.json', mode='w') as f:\n",
    "    json.dump(records, f, indent=4)"
   ]
  },
  {
   "cell_type": "code",
   "execution_count": 10,
   "id": "297acab6",
   "metadata": {},
   "outputs": [],
   "source": [
    "import re\n",
    "from collections import defaultdict\n",
    "\n",
    "import pandas as pd, requests, urllib.parse, time\n",
    "from tqdm import tqdm\n",
    "from pydantic import ValidationError\n",
    "\n",
    "from models import OpenAlexWork\n",
    "\n",
    "def get_oa_work():\n",
    "    BASE = \"https://api.openalex.org/works\"\n",
    "    filters = \"title_and_abstract.search:Blanchot,publication_year:1998-2025\"\n",
    "    per_page = 200\n",
    "    records = []\n",
    "    cursor = \"*\"\n",
    "    invalid_works = []\n",
    "    with tqdm(desc='Downloading', unit='work') as pbar:\n",
    "        while True:\n",
    "            encoded_filters = urllib.parse.quote(filters)\n",
    "            encoded_cursor = urllib.parse.quote(cursor)\n",
    "\n",
    "            url = f\"{BASE}?filter={encoded_filters}&per_page={per_page}&cursor={encoded_cursor}\"\n",
    "            \n",
    "            resp = requests.get(url).json()\n",
    "            if pbar.total == None: \n",
    "                pbar.total = resp['meta']['count']\n",
    "            works = resp['results']\n",
    "\n",
    "            for work in works:\n",
    "                try:\n",
    "                    valid_work = OpenAlexWork.model_validate(work).model_dump()\n",
    "                    valid_work['short_id'] = re.search(r'[A-Z]\\d+', str(valid_work['id'])).group()\n",
    "                    records.append(valid_work)\n",
    "                except ValidationError as e:\n",
    "                    invalidation_info = {\n",
    "                        \"work_id\": work.get(\"id\"),\n",
    "                        \"error\": str(e)\n",
    "                    }\n",
    "                    invalid_works.append(invalidation_info)\n",
    "            \n",
    "            \n",
    "            pbar.update(len(works))\n",
    "\n",
    "            next_cursor = resp['meta'].get('next_cursor')\n",
    "            if not next_cursor:\n",
    "                break\n",
    "            cursor = next_cursor\n",
    "            time.sleep(0.1)\n",
    "\n",
    "    if invalid_works:\n",
    "        print(f\"\\nInvalid: {len(invalid_works)}\")\n",
    "\n",
    "    original_count = len(records)\n",
    "    print(f\"\\nDownloaded: {original_count}\")\n",
    "\n",
    "    grouped_records = defaultdict(list)\n",
    "    for record in records:\n",
    "        record_id = record['short_id']\n",
    "        grouped_records[record_id].append(record)\n",
    "\n",
    "    records = [works_list[0] for works_list in grouped_records.values()]\n",
    "    final_count = len(records)\n",
    "\n",
    "    print(f\"Duplicates removed: {original_count - final_count}\")\n",
    "\n",
    "    return records"
   ]
  }
 ],
 "metadata": {
  "kernelspec": {
   "display_name": "blanchot",
   "language": "python",
   "name": "python3"
  },
  "language_info": {
   "codemirror_mode": {
    "name": "ipython",
    "version": 3
   },
   "file_extension": ".py",
   "mimetype": "text/x-python",
   "name": "python",
   "nbconvert_exporter": "python",
   "pygments_lexer": "ipython3",
   "version": "3.13.4"
  }
 },
 "nbformat": 4,
 "nbformat_minor": 5
}
