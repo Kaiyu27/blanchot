{
 "cells": [
  {
   "cell_type": "code",
   "execution_count": null,
   "id": "d609e017",
   "metadata": {},
   "outputs": [
    {
     "name": "stdout",
     "output_type": "stream",
     "text": [
      "Fetching data from PhilPapers...\n",
      "\n",
      "--- ❌ An HTTP Error Occurred ---\n",
      "Status Code: 403\n",
      "Reason: Forbidden\n",
      "Please check if your API ID and API Key are correct and active.\n"
     ]
    }
   ],
   "source": [
    "import requests\n",
    "import json\n",
    "\n",
    "API_URL = \"https://philpapers.org/oai/search.json?q=Blanchot&apiKey=AVXEwcrDK4g0pmV7x&apiId=1637502&start=0&howMany=100\"\n",
    "\n",
    "print(f\"Fetching data from PhilPapers...\")\n",
    "\n",
    "try:\n",
    "    response = requests.get(API_URL)\n",
    "\n",
    "    response.raise_for_status() \n",
    "\n",
    "    data = response.json()\n",
    "    \n",
    "    print(\"\\n--- API Request Successful ---\")\n",
    "    print(\"Printing the first page of results:\\n\")\n",
    "    \n",
    "    print(json.dumps(data, indent=2))\n",
    "\n",
    "except requests.exceptions.HTTPError as e:\n",
    "    print(f\"\\n--- An HTTP Error Occurred ---\")\n",
    "    print(f\"Status Code: {e.response.status_code}\")\n",
    "    print(f\"Reason: {e.response.reason}\")\n",
    "    print(\"Please check if your API ID and API Key are correct and active.\")\n",
    "\n",
    "except requests.exceptions.RequestException as e:\n",
    "    print(f\"\\n--- A Connection Error Occurred ---\")\n",
    "    print(f\"Error: {e}\")"
   ]
  }
 ],
 "metadata": {
  "kernelspec": {
   "display_name": "blanchot",
   "language": "python",
   "name": "python3"
  },
  "language_info": {
   "codemirror_mode": {
    "name": "ipython",
    "version": 3
   },
   "file_extension": ".py",
   "mimetype": "text/x-python",
   "name": "python",
   "nbconvert_exporter": "python",
   "pygments_lexer": "ipython3",
   "version": "3.13.4"
  }
 },
 "nbformat": 4,
 "nbformat_minor": 5
}
